{
 "cells": [
  {
   "cell_type": "markdown",
   "metadata": {},
   "source": [
    "## **Candidate Elimination Algorithm**"
   ]
  },
  {
   "cell_type": "markdown",
   "metadata": {},
   "source": [
    "### Data pre-processing"
   ]
  },
  {
   "cell_type": "code",
   "execution_count": 1,
   "metadata": {},
   "outputs": [],
   "source": [
    "import pandas as pd"
   ]
  },
  {
   "cell_type": "code",
   "execution_count": 2,
   "metadata": {},
   "outputs": [
    {
     "data": {
      "text/html": [
       "<div>\n",
       "<style scoped>\n",
       "    .dataframe tbody tr th:only-of-type {\n",
       "        vertical-align: middle;\n",
       "    }\n",
       "\n",
       "    .dataframe tbody tr th {\n",
       "        vertical-align: top;\n",
       "    }\n",
       "\n",
       "    .dataframe thead th {\n",
       "        text-align: right;\n",
       "    }\n",
       "</style>\n",
       "<table border=\"1\" class=\"dataframe\">\n",
       "  <thead>\n",
       "    <tr style=\"text-align: right;\">\n",
       "      <th></th>\n",
       "      <th>Sky</th>\n",
       "      <th>Temp</th>\n",
       "      <th>Humidity</th>\n",
       "      <th>Wind</th>\n",
       "      <th>Water</th>\n",
       "      <th>Forecast</th>\n",
       "      <th>Enjoysport</th>\n",
       "    </tr>\n",
       "  </thead>\n",
       "  <tbody>\n",
       "    <tr>\n",
       "      <th>0</th>\n",
       "      <td>Sunny</td>\n",
       "      <td>Warm</td>\n",
       "      <td>Normal</td>\n",
       "      <td>Strong</td>\n",
       "      <td>Warm</td>\n",
       "      <td>Same</td>\n",
       "      <td>yes</td>\n",
       "    </tr>\n",
       "    <tr>\n",
       "      <th>1</th>\n",
       "      <td>Sunny</td>\n",
       "      <td>Warm</td>\n",
       "      <td>High</td>\n",
       "      <td>Strong</td>\n",
       "      <td>Warm</td>\n",
       "      <td>Same</td>\n",
       "      <td>yes</td>\n",
       "    </tr>\n",
       "    <tr>\n",
       "      <th>2</th>\n",
       "      <td>Sunny</td>\n",
       "      <td>Cold</td>\n",
       "      <td>High</td>\n",
       "      <td>Strong</td>\n",
       "      <td>Warm</td>\n",
       "      <td>Change</td>\n",
       "      <td>no</td>\n",
       "    </tr>\n",
       "    <tr>\n",
       "      <th>3</th>\n",
       "      <td>Sunny</td>\n",
       "      <td>Warm</td>\n",
       "      <td>High</td>\n",
       "      <td>Strong</td>\n",
       "      <td>Cool</td>\n",
       "      <td>Change</td>\n",
       "      <td>yes</td>\n",
       "    </tr>\n",
       "  </tbody>\n",
       "</table>\n",
       "</div>"
      ],
      "text/plain": [
       "     Sky     Temp  Humidity     Wind   Water  Forecast   Enjoysport\n",
       "0  Sunny     Warm     Normal   Strong   Warm      Same          yes\n",
       "1   Sunny    Warm       High   Strong   Warm       Same         yes\n",
       "2  Sunny    Cold       High    Strong   Warm    Change           no\n",
       "3  Sunny     Warm      High    Strong   Cool    Change          yes"
      ]
     },
     "execution_count": 2,
     "metadata": {},
     "output_type": "execute_result"
    }
   ],
   "source": [
    "data = pd.read_csv(\"2.csv\")\n",
    "\n",
    "data"
   ]
  },
  {
   "cell_type": "code",
   "execution_count": 3,
   "metadata": {},
   "outputs": [
    {
     "data": {
      "text/plain": [
       "array([['Sunny ', ' Warm', ' Normal', ' Strong', ' Warm', ' Same '],\n",
       "       ['Sunny', ' Warm', ' High', ' Strong', ' Warm', ' Same'],\n",
       "       ['Sunny ', ' Cold ', ' High ', ' Strong', ' Warm', ' Change '],\n",
       "       ['Sunny ', ' Warm', ' High ', ' Strong', ' Cool', ' Change ']],\n",
       "      dtype=object)"
      ]
     },
     "execution_count": 3,
     "metadata": {},
     "output_type": "execute_result"
    }
   ],
   "source": [
    "features = data.iloc[:, :-1].values\n",
    "\n",
    "features"
   ]
  },
  {
   "cell_type": "code",
   "execution_count": 4,
   "metadata": {},
   "outputs": [
    {
     "data": {
      "text/plain": [
       "[' yes', ' yes', ' no', ' yes']"
      ]
     },
     "execution_count": 4,
     "metadata": {},
     "output_type": "execute_result"
    }
   ],
   "source": [
    "target = data.iloc[:, -1:].values\n",
    "\n",
    "target = [i[0] for i in target]\n",
    "\n",
    "target"
   ]
  },
  {
   "cell_type": "markdown",
   "metadata": {},
   "source": [
    "### Algorithm"
   ]
  },
  {
   "cell_type": "markdown",
   "metadata": {},
   "source": [
    "#### Initializing S and G"
   ]
  },
  {
   "cell_type": "code",
   "execution_count": 5,
   "metadata": {},
   "outputs": [
    {
     "name": "stdout",
     "output_type": "stream",
     "text": [
      "S: ['Sunny ' ' Warm' ' Normal' ' Strong' ' Warm' ' Same ']\n",
      "G: [['?', '?', '?', '?', '?', '?'], ['?', '?', '?', '?', '?', '?'], ['?', '?', '?', '?', '?', '?'], ['?', '?', '?', '?', '?', '?'], ['?', '?', '?', '?', '?', '?'], ['?', '?', '?', '?', '?', '?']]\n"
     ]
    }
   ],
   "source": [
    "S = features[0]\n",
    "\n",
    "G = [['?' for i in range(len(features[0]))] for j in range(len(features[0]))]\n",
    "\n",
    "print(\"S:\", S)\n",
    "print(\"G:\", G)"
   ]
  },
  {
   "cell_type": "markdown",
   "metadata": {},
   "source": [
    "#### Generalize S"
   ]
  },
  {
   "cell_type": "code",
   "execution_count": 6,
   "metadata": {},
   "outputs": [],
   "source": [
    "def generalizeS(S: list, instance: list)->list:\n",
    "    for i in range(len(instance)):\n",
    "        S[i] = '?' if S[i] != instance[i] else instance[i]\n",
    "    return S"
   ]
  },
  {
   "cell_type": "markdown",
   "metadata": {},
   "source": [
    "#### Check if G is consistant"
   ]
  },
  {
   "cell_type": "code",
   "execution_count": 7,
   "metadata": {},
   "outputs": [],
   "source": [
    "def isConsistentWithS(S: list, instance: list) -> bool:\n",
    "    for i in range(len(instance)):\n",
    "        if S[i] == '?' and instance[i] != '?':\n",
    "            return False\n",
    "        elif S[i] != '?' and instance[i] != '?' and S[i] != instance[i]:\n",
    "            return False\n",
    "    return True"
   ]
  },
  {
   "cell_type": "markdown",
   "metadata": {},
   "source": [
    "#### Specialize G"
   ]
  },
  {
   "cell_type": "code",
   "execution_count": 8,
   "metadata": {},
   "outputs": [],
   "source": [
    "def specializeG(S: list, G: list[list], instance: list)->list[list]:\n",
    "    for i in range(len(G)):\n",
    "        if S[i] != instance[i]:\n",
    "            G[i][i] = S[i]\n",
    "        else:\n",
    "            G[i][i] = '?'\n",
    "    return G"
   ]
  },
  {
   "cell_type": "markdown",
   "metadata": {},
   "source": [
    "#### Remove Inconsistent Hypothesis from G"
   ]
  },
  {
   "cell_type": "code",
   "execution_count": 9,
   "metadata": {},
   "outputs": [],
   "source": [
    "def cleanUpG(S: list, G: list[list])-> list[list]:\n",
    "    i = 0\n",
    "    while i < len(G):\n",
    "        if not isConsistentWithS(S, G[i]):\n",
    "            G.remove(G[i])\n",
    "        elif G[i] == ['?']*len(G[0]):\n",
    "            G.remove(G[i])\n",
    "        else:\n",
    "            i += 1\n",
    "    return G"
   ]
  },
  {
   "cell_type": "markdown",
   "metadata": {},
   "source": [
    "#### Candidate Elimination Algorithm"
   ]
  },
  {
   "cell_type": "code",
   "execution_count": 10,
   "metadata": {},
   "outputs": [],
   "source": [
    "def candidateElimination(S: list, G: list, features: list[list], target: list):\n",
    "    for i in range(len(target)):\n",
    "        if target[i].lower().strip() == 'yes':\n",
    "            S = generalizeS(S, features[i])\n",
    "        elif target[i].lower().strip() == 'no':\n",
    "            G = specializeG(S, G, features[i])\n",
    "            cleanUpG(S, G)\n",
    "        print(f\"Example {i+1}: {target[i]}\")\n",
    "        print(\"Specific Hypothesis:\", S)\n",
    "        print(\"General Hypothesis:\", G)\n",
    "    cleanUpG(S, G)\n",
    "    return S, G\n"
   ]
  },
  {
   "cell_type": "markdown",
   "metadata": {},
   "source": [
    "#### Training the model"
   ]
  },
  {
   "cell_type": "code",
   "execution_count": 11,
   "metadata": {},
   "outputs": [
    {
     "name": "stdout",
     "output_type": "stream",
     "text": [
      "Example 1:  yes\n",
      "Specific Hypothesis: ['Sunny ' ' Warm' ' Normal' ' Strong' ' Warm' ' Same ']\n",
      "General Hypothesis: [['?', '?', '?', '?', '?', '?'], ['?', '?', '?', '?', '?', '?'], ['?', '?', '?', '?', '?', '?'], ['?', '?', '?', '?', '?', '?'], ['?', '?', '?', '?', '?', '?'], ['?', '?', '?', '?', '?', '?']]\n",
      "Example 2:  yes\n",
      "Specific Hypothesis: ['?' ' Warm' '?' ' Strong' ' Warm' '?']\n",
      "General Hypothesis: [['?', '?', '?', '?', '?', '?'], ['?', '?', '?', '?', '?', '?'], ['?', '?', '?', '?', '?', '?'], ['?', '?', '?', '?', '?', '?'], ['?', '?', '?', '?', '?', '?'], ['?', '?', '?', '?', '?', '?']]\n",
      "Example 3:  no\n",
      "Specific Hypothesis: ['?' ' Warm' '?' ' Strong' ' Warm' '?']\n",
      "General Hypothesis: [['?', ' Warm', '?', '?', '?', '?']]\n",
      "Example 4:  yes\n",
      "Specific Hypothesis: ['?' ' Warm' '?' ' Strong' '?' '?']\n",
      "General Hypothesis: [['?', ' Warm', '?', '?', '?', '?']]\n",
      "['?' ' Warm' '?' ' Strong' '?' '?']\n",
      "[['?', ' Warm', '?', '?', '?', '?']]\n"
     ]
    }
   ],
   "source": [
    "SH, GH = candidateElimination(S, G, features, target)\n",
    "print(SH)\n",
    "print(GH)"
   ]
  }
 ],
 "metadata": {
  "kernelspec": {
   "display_name": "Kumari",
   "language": "python",
   "name": "python3"
  },
  "language_info": {
   "codemirror_mode": {
    "name": "ipython",
    "version": 3
   },
   "file_extension": ".py",
   "mimetype": "text/x-python",
   "name": "python",
   "nbconvert_exporter": "python",
   "pygments_lexer": "ipython3",
   "version": "3.9.21"
  }
 },
 "nbformat": 4,
 "nbformat_minor": 2
}
