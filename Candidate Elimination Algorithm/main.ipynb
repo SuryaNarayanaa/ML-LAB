{
 "cells": [
  {
   "cell_type": "code",
   "execution_count": 2,
   "metadata": {},
   "outputs": [],
   "source": [
    "import pandas as pd\n",
    "import numpy as np"
   ]
  },
  {
   "cell_type": "code",
   "execution_count": null,
   "metadata": {},
   "outputs": [],
   "source": []
  },
  {
   "cell_type": "code",
   "execution_count": 14,
   "metadata": {},
   "outputs": [],
   "source": [
    "def candidate_elimination(training_data):\n",
    "    # Extract features (X) and labels (y)\n",
    "    X = np.array(training_data[:, :-1])  # All columns except last (features)\n",
    "    y = np.array(training_data[:, -1])   # Last column (target labels)\n",
    "\n",
    "    num_features = X.shape[1]\n",
    "    \n",
    "    # Initialize Specific and General hypotheses\n",
    "    S = X[0].copy()  # Specific hypothesis\n",
    "    G = [[\"?\"] * num_features]  # General hypothesis\n",
    "\n",
    "    for i in range(1, len(X)):\n",
    "        if y[i] == \"Yes\":  # If the example is positive\n",
    "            for j in range(num_features):\n",
    "                if S[j] != X[i][j]:  \n",
    "                    S[j] = \"?\"  # Generalize S\n",
    "            G = [g for g in G if all(g[k] == \"?\" or g[k] == S[k] for k in range(num_features))]\n",
    "\n",
    "        elif y[i] == \"No\":  # If the example is negative\n",
    "            new_G = []\n",
    "            for g in G:\n",
    "                for j in range(num_features):\n",
    "                    if g[j] == \"?\":\n",
    "                        if S[j] != X[i][j]:\n",
    "                            new_g = g.copy()\n",
    "                            new_g[j] = S[j]\n",
    "                            new_G.append(new_g)\n",
    "            G = new_G\n",
    "    print(\"S\", S)\n",
    "    print(\"G\" , G)\n",
    "    return S, G"
   ]
  },
  {
   "cell_type": "code",
   "execution_count": null,
   "metadata": {},
   "outputs": [],
   "source": [
    "\n",
    "def CEA(df , target):\n",
    "    \n",
    "    Specific = df[0].copy()\n",
    "    General = [['?']*len(df[0]) for _ in range(len(df[0]))]\n",
    "    for idx , row in enumerate(df):\n",
    "        label = target[idx]\n",
    "        # Process each row and corresponding label\n",
    "        if label == \"yes\":\n",
    "            print(label)\n",
    "            for i in range(len(Specific)):\n",
    "                if row[i] != Specific[i] :\n",
    "                    Specific[i] = '?'\n",
    "                    General[i][i] = '?'\n",
    "                \n",
    "\n",
    "        else:\n",
    "            print(label)\n",
    "\n",
    "            for i in range(len(Specific)):\n",
    "                if row[i]!= Specific[i]:                    \n",
    "                    General[i][i] =    Specific[i]                \n",
    "                else:                    \n",
    "                    General[i][i] = '?' \n",
    "        print(\"S\", Specific)\n",
    "        print(\"G\" , General)\n",
    "\n",
    "\n",
    "\n"
   ]
  },
  {
   "cell_type": "code",
   "execution_count": 13,
   "metadata": {},
   "outputs": [
    {
     "name": "stdout",
     "output_type": "stream",
     "text": [
      " yes\n",
      "S ['Sunny ' ' Warm' ' Normal' ' Strong' ' Warm' ' Same ']\n",
      "G [['?', '?', '?', '?', '?', '?'], ['?', '?', '?', '?', '?', '?'], ['?', '?', '?', '?', '?', '?'], ['?', '?', '?', '?', '?', '?'], ['?', '?', '?', '?', '?', '?'], ['?', '?', '?', '?', '?', '?']]\n",
      " yes\n",
      "S ['Sunny ' ' Warm' ' Normal' ' Strong' ' Warm' ' Same ']\n",
      "G [['Sunny ', '?', '?', '?', '?', '?'], ['?', '?', '?', '?', '?', '?'], ['?', '?', ' Normal', '?', '?', '?'], ['?', '?', '?', '?', '?', '?'], ['?', '?', '?', '?', '?', '?'], ['?', '?', '?', '?', '?', ' Same ']]\n",
      " no\n",
      "S ['Sunny ' ' Warm' ' Normal' ' Strong' ' Warm' ' Same ']\n",
      "G [['Sunny ', '?', '?', '?', '?', '?'], ['?', ' Warm', '?', '?', '?', '?'], ['?', '?', ' Normal', '?', '?', '?'], ['?', '?', '?', '?', '?', '?'], ['?', '?', '?', '?', '?', '?'], ['?', '?', '?', '?', '?', ' Same ']]\n",
      " yes\n",
      "S ['Sunny ' ' Warm' ' Normal' ' Strong' ' Warm' ' Same ']\n",
      "G [['?', '?', '?', '?', '?', '?'], ['?', '?', '?', '?', '?', '?'], ['?', '?', ' Normal', '?', '?', '?'], ['?', '?', '?', '?', '?', '?'], ['?', '?', '?', '?', ' Warm', '?'], ['?', '?', '?', '?', '?', ' Same ']]\n"
     ]
    }
   ],
   "source": [
    "df = pd.read_csv(\"2.csv\")\n",
    "dataframe = df.iloc[:,:-1]\n",
    "target = df.iloc[:,-1]\n",
    "concepts = np.array(df.iloc[:,0:-1])\n",
    "target = np.array(df.iloc[:,-1])  \n",
    "\n",
    "CEA(concepts, target)"
   ]
  },
  {
   "cell_type": "code",
   "execution_count": null,
   "metadata": {},
   "outputs": [],
   "source": []
  }
 ],
 "metadata": {
  "kernelspec": {
   "display_name": "base",
   "language": "python",
   "name": "python3"
  },
  "language_info": {
   "codemirror_mode": {
    "name": "ipython",
    "version": 3
   },
   "file_extension": ".py",
   "mimetype": "text/x-python",
   "name": "python",
   "nbconvert_exporter": "python",
   "pygments_lexer": "ipython3",
   "version": "3.12.3"
  }
 },
 "nbformat": 4,
 "nbformat_minor": 2
}
