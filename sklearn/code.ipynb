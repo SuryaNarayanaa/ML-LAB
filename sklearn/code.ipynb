{
 "cells": [
  {
   "cell_type": "markdown",
   "metadata": {},
   "source": [
    "# Exercise 1"
   ]
  },
  {
   "cell_type": "markdown",
   "metadata": {},
   "source": [
    "1.  Write a Python program to load the iris data from a given csv file into a dataframe and print the shape of the data, type of the data and first 3 rows."
   ]
  },
  {
   "cell_type": "code",
   "execution_count": 1,
   "metadata": {},
   "outputs": [
    {
     "name": "stdout",
     "output_type": "stream",
     "text": [
      "\n",
      "\n",
      "Shape : \n",
      "(150, 6)\n",
      "\n",
      "\n",
      "Datatype : \n",
      "Id                 int64\n",
      "SepalLengthCm    float64\n",
      "SepalWidthCm     float64\n",
      "PetalLengthCm    float64\n",
      "PetalWidthCm     float64\n",
      "Species           object\n",
      "dtype: object\n",
      "\n",
      "\n",
      "First 3 rows : \n"
     ]
    },
    {
     "data": {
      "text/html": [
       "<div>\n",
       "<style scoped>\n",
       "    .dataframe tbody tr th:only-of-type {\n",
       "        vertical-align: middle;\n",
       "    }\n",
       "\n",
       "    .dataframe tbody tr th {\n",
       "        vertical-align: top;\n",
       "    }\n",
       "\n",
       "    .dataframe thead th {\n",
       "        text-align: right;\n",
       "    }\n",
       "</style>\n",
       "<table border=\"1\" class=\"dataframe\">\n",
       "  <thead>\n",
       "    <tr style=\"text-align: right;\">\n",
       "      <th></th>\n",
       "      <th>Id</th>\n",
       "      <th>SepalLengthCm</th>\n",
       "      <th>SepalWidthCm</th>\n",
       "      <th>PetalLengthCm</th>\n",
       "      <th>PetalWidthCm</th>\n",
       "      <th>Species</th>\n",
       "    </tr>\n",
       "  </thead>\n",
       "  <tbody>\n",
       "    <tr>\n",
       "      <th>0</th>\n",
       "      <td>1</td>\n",
       "      <td>5.1</td>\n",
       "      <td>3.5</td>\n",
       "      <td>1.4</td>\n",
       "      <td>0.2</td>\n",
       "      <td>Iris-setosa</td>\n",
       "    </tr>\n",
       "    <tr>\n",
       "      <th>1</th>\n",
       "      <td>2</td>\n",
       "      <td>4.9</td>\n",
       "      <td>3.0</td>\n",
       "      <td>1.4</td>\n",
       "      <td>0.2</td>\n",
       "      <td>Iris-setosa</td>\n",
       "    </tr>\n",
       "    <tr>\n",
       "      <th>2</th>\n",
       "      <td>3</td>\n",
       "      <td>4.7</td>\n",
       "      <td>3.2</td>\n",
       "      <td>1.3</td>\n",
       "      <td>0.2</td>\n",
       "      <td>Iris-setosa</td>\n",
       "    </tr>\n",
       "  </tbody>\n",
       "</table>\n",
       "</div>"
      ],
      "text/plain": [
       "   Id  SepalLengthCm  SepalWidthCm  PetalLengthCm  PetalWidthCm      Species\n",
       "0   1            5.1           3.5            1.4           0.2  Iris-setosa\n",
       "1   2            4.9           3.0            1.4           0.2  Iris-setosa\n",
       "2   3            4.7           3.2            1.3           0.2  Iris-setosa"
      ]
     },
     "execution_count": 1,
     "metadata": {},
     "output_type": "execute_result"
    }
   ],
   "source": [
    "import numpy as np \n",
    "import pandas as pd\n",
    "df = pd.read_csv(\"Iris.csv\")\n",
    "\n",
    "print(\"\\n\")\n",
    "print(\"Shape : \")\n",
    "print(df.shape)\n",
    "print(\"\\n\")\n",
    "print(\"Datatype : \")\n",
    "print(df.dtypes)\n",
    "print(\"\\n\")\n",
    "print(\"First 3 rows : \")\n",
    "df.head(3)"
   ]
  },
  {
   "cell_type": "markdown",
   "metadata": {},
   "source": [
    "2. Write a Python program using Scikit-learn to print the keys, number of rows-columns, feature names and the description of the Iris data"
   ]
  },
  {
   "cell_type": "code",
   "execution_count": 2,
   "metadata": {},
   "outputs": [
    {
     "name": "stdout",
     "output_type": "stream",
     "text": [
      "Keys : \n",
      "Index(['Id', 'SepalLengthCm', 'SepalWidthCm', 'PetalLengthCm', 'PetalWidthCm',\n",
      "       'Species'],\n",
      "      dtype='object')\n",
      "\n",
      "\n",
      "size : \n",
      "900\n",
      "\n",
      "\n",
      "Row size : \n",
      "150\n",
      "\n",
      "\n",
      "Col size : \n",
      "6\n",
      "\n",
      "\n"
     ]
    }
   ],
   "source": [
    "print(\"Keys : \")\n",
    "print(df.keys())\n",
    "print(\"\\n\")\n",
    "print(\"size : \")\n",
    "print(df.size)\n",
    "print(\"\\n\")\n",
    "print(\"Row size : \")\n",
    "print(df.shape[0])\n",
    "print(\"\\n\")\n",
    "print(\"Col size : \")\n",
    "print(df.shape[1])\n",
    "print(\"\\n\")"
   ]
  },
  {
   "cell_type": "markdown",
   "metadata": {},
   "source": [
    "3.  Write a Python program to get the number of observations, missing values and nan values"
   ]
  },
  {
   "cell_type": "code",
   "execution_count": 3,
   "metadata": {},
   "outputs": [
    {
     "name": "stdout",
     "output_type": "stream",
     "text": [
      "<class 'pandas.core.frame.DataFrame'>\n",
      "RangeIndex: 150 entries, 0 to 149\n",
      "Data columns (total 6 columns):\n",
      " #   Column         Non-Null Count  Dtype  \n",
      "---  ------         --------------  -----  \n",
      " 0   Id             150 non-null    int64  \n",
      " 1   SepalLengthCm  150 non-null    float64\n",
      " 2   SepalWidthCm   150 non-null    float64\n",
      " 3   PetalLengthCm  150 non-null    float64\n",
      " 4   PetalWidthCm   150 non-null    float64\n",
      " 5   Species        150 non-null    object \n",
      "dtypes: float64(4), int64(1), object(1)\n",
      "memory usage: 7.2+ KB\n",
      "None\n"
     ]
    }
   ],
   "source": [
    "print(df.info())"
   ]
  },
  {
   "cell_type": "code",
   "execution_count": 4,
   "metadata": {},
   "outputs": [
    {
     "name": "stdout",
     "output_type": "stream",
     "text": [
      "['Species']\n",
      "['Species_Iris-versicolor' 'Species_Iris-virginica']\n"
     ]
    },
    {
     "data": {
      "text/html": [
       "<div>\n",
       "<style scoped>\n",
       "    .dataframe tbody tr th:only-of-type {\n",
       "        vertical-align: middle;\n",
       "    }\n",
       "\n",
       "    .dataframe tbody tr th {\n",
       "        vertical-align: top;\n",
       "    }\n",
       "\n",
       "    .dataframe thead th {\n",
       "        text-align: right;\n",
       "    }\n",
       "</style>\n",
       "<table border=\"1\" class=\"dataframe\">\n",
       "  <thead>\n",
       "    <tr style=\"text-align: right;\">\n",
       "      <th></th>\n",
       "      <th>Id</th>\n",
       "      <th>SepalLengthCm</th>\n",
       "      <th>SepalWidthCm</th>\n",
       "      <th>PetalLengthCm</th>\n",
       "      <th>PetalWidthCm</th>\n",
       "      <th>Species_Iris-versicolor</th>\n",
       "      <th>Species_Iris-virginica</th>\n",
       "    </tr>\n",
       "  </thead>\n",
       "  <tbody>\n",
       "    <tr>\n",
       "      <th>0</th>\n",
       "      <td>1</td>\n",
       "      <td>5.1</td>\n",
       "      <td>3.5</td>\n",
       "      <td>1.4</td>\n",
       "      <td>0.2</td>\n",
       "      <td>0.0</td>\n",
       "      <td>0.0</td>\n",
       "    </tr>\n",
       "    <tr>\n",
       "      <th>1</th>\n",
       "      <td>2</td>\n",
       "      <td>4.9</td>\n",
       "      <td>3.0</td>\n",
       "      <td>1.4</td>\n",
       "      <td>0.2</td>\n",
       "      <td>0.0</td>\n",
       "      <td>0.0</td>\n",
       "    </tr>\n",
       "    <tr>\n",
       "      <th>2</th>\n",
       "      <td>3</td>\n",
       "      <td>4.7</td>\n",
       "      <td>3.2</td>\n",
       "      <td>1.3</td>\n",
       "      <td>0.2</td>\n",
       "      <td>0.0</td>\n",
       "      <td>0.0</td>\n",
       "    </tr>\n",
       "    <tr>\n",
       "      <th>3</th>\n",
       "      <td>4</td>\n",
       "      <td>4.6</td>\n",
       "      <td>3.1</td>\n",
       "      <td>1.5</td>\n",
       "      <td>0.2</td>\n",
       "      <td>0.0</td>\n",
       "      <td>0.0</td>\n",
       "    </tr>\n",
       "    <tr>\n",
       "      <th>4</th>\n",
       "      <td>5</td>\n",
       "      <td>5.0</td>\n",
       "      <td>3.6</td>\n",
       "      <td>1.4</td>\n",
       "      <td>0.2</td>\n",
       "      <td>0.0</td>\n",
       "      <td>0.0</td>\n",
       "    </tr>\n",
       "  </tbody>\n",
       "</table>\n",
       "</div>"
      ],
      "text/plain": [
       "   Id  SepalLengthCm  SepalWidthCm  PetalLengthCm  PetalWidthCm  \\\n",
       "0   1            5.1           3.5            1.4           0.2   \n",
       "1   2            4.9           3.0            1.4           0.2   \n",
       "2   3            4.7           3.2            1.3           0.2   \n",
       "3   4            4.6           3.1            1.5           0.2   \n",
       "4   5            5.0           3.6            1.4           0.2   \n",
       "\n",
       "   Species_Iris-versicolor  Species_Iris-virginica  \n",
       "0                      0.0                     0.0  \n",
       "1                      0.0                     0.0  \n",
       "2                      0.0                     0.0  \n",
       "3                      0.0                     0.0  \n",
       "4                      0.0                     0.0  "
      ]
     },
     "execution_count": 4,
     "metadata": {},
     "output_type": "execute_result"
    }
   ],
   "source": [
    "from sklearn.preprocessing import OneHotEncoder\n",
    "\n",
    "# Instantiate the OneHotEncoder\n",
    "encoder = OneHotEncoder(sparse_output=False, handle_unknown='ignore',drop='first')\n",
    "\n",
    "# Identify categorical columns (object dtype)\n",
    "categorical_cols = df.select_dtypes(include=['object']).columns.tolist()\n",
    "print(categorical_cols)\n",
    "\n",
    "# Apply OneHotEncoder to the categorical columns and create a DataFrame from the result\n",
    "encoded = pd.DataFrame(encoder.fit_transform(df[categorical_cols]),\n",
    "                       columns=encoder.get_feature_names_out(categorical_cols),\n",
    "                       index=df.index)\n",
    "print(encoder.get_feature_names_out(categorical_cols))\n",
    "\n",
    "# Drop the original categorical columns and join the encoded dataframe\n",
    "df_encoded = df.drop(columns=categorical_cols).join(encoded)\n",
    "df_encoded.head()"
   ]
  },
  {
   "cell_type": "code",
   "execution_count": null,
   "metadata": {},
   "outputs": [
    {
     "name": "stdout",
     "output_type": "stream",
     "text": [
      "Original DataFrame:\n",
      "     A    B\n",
      "0  1.0  NaN\n",
      "1  2.0  2.0\n",
      "2  NaN  3.0\n",
      "3  4.0  4.0\n",
      "4  5.0  5.0\n",
      "\n",
      "DataFrame after imputing missing values with mean:\n",
      "     A    B\n",
      "0  1.0  2.0\n",
      "1  2.0  2.0\n",
      "2  1.0  3.0\n",
      "3  4.0  4.0\n",
      "4  5.0  5.0\n"
     ]
    }
   ],
   "source": [
    "from sklearn.impute import SimpleImputer\n",
    "import numpy as np\n",
    "import pandas as pd\n",
    "\n",
    "# Create a sample DataFrame with missing values\n",
    "data = pd.DataFrame({\n",
    "    'A': [1, 2, np.nan, 4, 5],\n",
    "    'B': [np.nan, 2, 3, 4, 5]\n",
    "})\n",
    "\n",
    "print(\"Original DataFrame:\")\n",
    "print(data)\n",
    "\n",
    "# Instantiate SimpleImputer with strategy 'mean' to replace missing values by the column mean\n",
    "imputer = SimpleImputer(strategy='most_frequent') #  mean median most_frequent\n",
    "\n",
    "# Fit the imputer on the data and transform it\n",
    "data_imputed = pd.DataFrame(imputer.fit_transform(data), columns=data.columns)\n",
    "\n",
    "print(\"\\nDataFrame after imputing missing values with mean:\")\n",
    "print(data_imputed)"
   ]
  },
  {
   "cell_type": "code",
   "execution_count": 16,
   "metadata": {},
   "outputs": [
    {
     "name": "stdout",
     "output_type": "stream",
     "text": [
      "data encoded \n",
      "[[0. 0. 1.]\n",
      " [0. 1. 0.]\n",
      " [1. 0. 0.]\n",
      " [0. 1. 0.]]\n",
      "OneHotEncoder(sparse_output=False)\n",
      "\n",
      "Original Data:\n",
      " [['red']\n",
      " ['green']\n",
      " ['blue']\n",
      " ['green']]\n",
      "\n",
      "One-Hot Encoded DataFrame:\n",
      "    color_blue  color_green  color_red\n",
      "0         0.0          0.0        1.0\n",
      "1         0.0          1.0        0.0\n",
      "2         1.0          0.0        0.0\n",
      "3         0.0          1.0        0.0\n"
     ]
    }
   ],
   "source": [
    "import numpy as np\n",
    "import pandas as pd\n",
    "from sklearn.preprocessing import OneHotEncoder\n",
    "\n",
    "# Sample categorical data as a 2D array (each row is an observation)\n",
    "data = np.array([\n",
    "    ['red'],\n",
    "    ['green'],\n",
    "    ['blue'],\n",
    "    ['green']\n",
    "])\n",
    "\n",
    "# Create the OneHotEncoder instance\n",
    "encoder = OneHotEncoder(sparse_output=False)\n",
    "\n",
    "# Fit the encoder and transform the data\n",
    "data_encoded = encoder.fit_transform(data)\n",
    "print(\"data encoded \")\n",
    "print(data_encoded)\n",
    "\n",
    "# Retrieve feature names for each one-hot encoded column\n",
    "# Here, 'color' is the name we assign to the original column\n",
    "print(encoder)\n",
    "print()\n",
    "column_names = encoder.get_feature_names_out(['color'])\n",
    "\n",
    "# Create a DataFrame with each one-hot vector as an individual column\n",
    "df_encoded = pd.DataFrame(data_encoded, columns=column_names)\n",
    "\n",
    "print(\"Original Data:\\n\", data)\n",
    "print(\"\\nOne-Hot Encoded DataFrame:\\n\", df_encoded)\n"
   ]
  },
  {
   "cell_type": "code",
   "execution_count": 18,
   "metadata": {},
   "outputs": [
    {
     "name": "stdout",
     "output_type": "stream",
     "text": [
      "['Color_Green' 'Color_Red' 'Size_L' 'Size_M' 'Size_S' 'Shape_Circle'\n",
      " 'Shape_Square']\n",
      "Original DataFrame:\n",
      "    Color Size   Shape\n",
      "0    Red    S  Circle\n",
      "1  Green    M  Square\n",
      "2    Red    L  Circle\n",
      "3  Green    M  Square\n",
      "\n",
      "One-Hot Encoded DataFrame:\n",
      "    Color_Green  Color_Red  Size_L  Size_M  Size_S  Shape_Circle  Shape_Square\n",
      "0          0.0        1.0     0.0     0.0     1.0           1.0           0.0\n",
      "1          1.0        0.0     0.0     1.0     0.0           0.0           1.0\n",
      "2          0.0        1.0     1.0     0.0     0.0           1.0           0.0\n",
      "3          1.0        0.0     0.0     1.0     0.0           0.0           1.0\n"
     ]
    }
   ],
   "source": [
    "import pandas as pd\n",
    "from sklearn.preprocessing import OneHotEncoder\n",
    "\n",
    "# Sample DataFrame with multiple categorical columns\n",
    "data = pd.DataFrame({\n",
    "    'Color': ['Red', 'Green', 'Red', 'Green'],\n",
    "    'Size': ['S', 'M', 'L', 'M'],\n",
    "    'Shape': ['Circle', 'Square', 'Circle', 'Square']\n",
    "})\n",
    "\n",
    "# Initialize the OneHotEncoder\n",
    "encoder = OneHotEncoder(sparse_output=False )\n",
    "\n",
    "# Fit and transform the categorical columns\n",
    "data_encoded = encoder.fit_transform(data)\n",
    "\n",
    "# Retrieve the feature names for the encoded columns\n",
    "column_names = encoder.get_feature_names_out(data.columns)\n",
    "print(column_names)\n",
    "# Create a new DataFrame with one-hot encoded columns\n",
    "encoded_df = pd.DataFrame(data_encoded, columns=column_names)\n",
    "\n",
    "# Display the results\n",
    "print(\"Original DataFrame:\\n\", data)\n",
    "print(\"\\nOne-Hot Encoded DataFrame:\\n\", encoded_df)"
   ]
  },
  {
   "cell_type": "code",
   "execution_count": 29,
   "metadata": {},
   "outputs": [
    {
     "data": {
      "text/html": [
       "<div>\n",
       "<style scoped>\n",
       "    .dataframe tbody tr th:only-of-type {\n",
       "        vertical-align: middle;\n",
       "    }\n",
       "\n",
       "    .dataframe tbody tr th {\n",
       "        vertical-align: top;\n",
       "    }\n",
       "\n",
       "    .dataframe thead th {\n",
       "        text-align: right;\n",
       "    }\n",
       "</style>\n",
       "<table border=\"1\" class=\"dataframe\">\n",
       "  <thead>\n",
       "    <tr style=\"text-align: right;\">\n",
       "      <th></th>\n",
       "      <th>Sky _Sunny</th>\n",
       "      <th>Temp_ Warm</th>\n",
       "      <th>Humidity _ Normal</th>\n",
       "      <th>Wind _ Strong</th>\n",
       "      <th>Water_ Warm</th>\n",
       "      <th>Forecast _ Same</th>\n",
       "      <th>Enjoysport_ yes</th>\n",
       "    </tr>\n",
       "  </thead>\n",
       "  <tbody>\n",
       "    <tr>\n",
       "      <th>0</th>\n",
       "      <td>1.0</td>\n",
       "      <td>1.0</td>\n",
       "      <td>1.0</td>\n",
       "      <td>1.0</td>\n",
       "      <td>1.0</td>\n",
       "      <td>1.0</td>\n",
       "      <td>1.0</td>\n",
       "    </tr>\n",
       "    <tr>\n",
       "      <th>1</th>\n",
       "      <td>1.0</td>\n",
       "      <td>1.0</td>\n",
       "      <td>0.0</td>\n",
       "      <td>1.0</td>\n",
       "      <td>1.0</td>\n",
       "      <td>1.0</td>\n",
       "      <td>1.0</td>\n",
       "    </tr>\n",
       "    <tr>\n",
       "      <th>2</th>\n",
       "      <td>0.0</td>\n",
       "      <td>0.0</td>\n",
       "      <td>0.0</td>\n",
       "      <td>1.0</td>\n",
       "      <td>1.0</td>\n",
       "      <td>0.0</td>\n",
       "      <td>0.0</td>\n",
       "    </tr>\n",
       "    <tr>\n",
       "      <th>3</th>\n",
       "      <td>1.0</td>\n",
       "      <td>1.0</td>\n",
       "      <td>0.0</td>\n",
       "      <td>1.0</td>\n",
       "      <td>0.0</td>\n",
       "      <td>0.0</td>\n",
       "      <td>1.0</td>\n",
       "    </tr>\n",
       "  </tbody>\n",
       "</table>\n",
       "</div>"
      ],
      "text/plain": [
       "   Sky _Sunny   Temp_ Warm   Humidity _ Normal   Wind _ Strong   Water_ Warm  \\\n",
       "0         1.0          1.0                 1.0             1.0           1.0   \n",
       "1         1.0          1.0                 0.0             1.0           1.0   \n",
       "2         0.0          0.0                 0.0             1.0           1.0   \n",
       "3         1.0          1.0                 0.0             1.0           0.0   \n",
       "\n",
       "    Forecast _ Same    Enjoysport_ yes  \n",
       "0                1.0               1.0  \n",
       "1                1.0               1.0  \n",
       "2                0.0               0.0  \n",
       "3                0.0               1.0  "
      ]
     },
     "execution_count": 29,
     "metadata": {},
     "output_type": "execute_result"
    }
   ],
   "source": [
    "import numpy as np\n",
    "from sklearn.preprocessing import OneHotEncoder\n",
    "\n",
    "# Sample categorical data\n",
    "data = pd.read_csv('2.csv')\n",
    "enc= OneHotEncoder(sparse_output=False, handle_unknown='ignore' , drop='if_binary') \n",
    "data_enc = enc.fit_transform(data)\n",
    "cols = enc.get_feature_names_out(data.columns)\n",
    "df = pd.DataFrame(data_enc ,columns= cols)\n",
    "df"
   ]
  },
  {
   "cell_type": "code",
   "execution_count": 35,
   "metadata": {},
   "outputs": [
    {
     "data": {
      "text/plain": [
       "array([[2. , 1.2],\n",
       "       [1.2, 1.2]])"
      ]
     },
     "execution_count": 35,
     "metadata": {},
     "output_type": "execute_result"
    }
   ],
   "source": [
    "import numpy as np\n",
    "import pandas as pd\n",
    "\n",
    "# Sample Data\n",
    "X = np.array([1, 2, 3, 4, 5])\n",
    "Y = np.array([2, 4, 5, 4, 5])\n",
    "\n",
    "# Pearson Correlation\n",
    "correlation = np.cov(X, Y , bias = True)\n",
    "# print(f\"Correlation Coefficient (r): {correlation:.4f}\")\n",
    "correlation\n"
   ]
  },
  {
   "cell_type": "code",
   "execution_count": null,
   "metadata": {},
   "outputs": [
    {
     "name": "stdout",
     "output_type": "stream",
     "text": [
      "Correlation Coefficient (r): 0.7746\n",
      "Correlation Coefficient (ρ): 0.7746\n"
     ]
    },
    {
     "name": "stderr",
     "output_type": "stream",
     "text": [
      "C:\\Users\\SURYA\\AppData\\Local\\Temp\\ipykernel_3728\\752580101.py:9: DeprecationWarning: bias and ddof have no effect and are deprecated\n",
      "  correlation = np.corrcoef(X, Y, bias=False )[0,1]\n"
     ]
    }
   ],
   "source": [
    "import numpy as np\n",
    "import pandas as pd\n",
    "\n",
    "# Sample Data\n",
    "X = np.array([1, 2, 3, 4, 5])\n",
    "Y = np.array([2, 4, 5, 4, 5])\n",
    "\n",
    "# Pearson Correlation\n",
    "correlation = np.corrcoef(X, Y, bias=False )[0,1]\n",
    "print(f\"Correlation Coefficient (r): {correlation:.4f}\")\n",
    "\n",
    "std_X = np.std(X)\n",
    "std_Y = np.std(Y)\n",
    "covariance = np.cov(X,Y, bias=True)[0,1]\n",
    "correlation_coeff = covariance / (std_X * std_Y)\n",
    "print(f\"Correlation Coefficient (ρ): {correlation_coeff:.4f}\")\n"
   ]
  },
  {
   "cell_type": "code",
   "execution_count": 30,
   "metadata": {},
   "outputs": [
    {
     "name": "stdout",
     "output_type": "stream",
     "text": [
      "R² Score: 0.9817\n"
     ]
    }
   ],
   "source": [
    "from sklearn.metrics import r2_score\n",
    "\n",
    "# Predictions (Assuming a simple model)\n",
    "y_true = np.array([2, 4, 5, 4, 5])\n",
    "y_pred = np.array([2.2, 3.8, 4.9, 4.1, 5.1])\n",
    "\n",
    "r2 = r2_score(y_true, y_pred)\n",
    "print(f\"R² Score: {r2:.4f}\")\n"
   ]
  }
 ],
 "metadata": {
  "kernelspec": {
   "display_name": "Kumari",
   "language": "python",
   "name": "python3"
  },
  "language_info": {
   "codemirror_mode": {
    "name": "ipython",
    "version": 3
   },
   "file_extension": ".py",
   "mimetype": "text/x-python",
   "name": "python",
   "nbconvert_exporter": "python",
   "pygments_lexer": "ipython3",
   "version": "3.9.21"
  }
 },
 "nbformat": 4,
 "nbformat_minor": 2
}
